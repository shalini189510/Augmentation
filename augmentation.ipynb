{
 "cells": [
  {
   "cell_type": "code",
   "execution_count": 1,
   "metadata": {},
   "outputs": [],
   "source": [
    "import cv2\n",
    "import os\n",
    "import numpy as np\n",
    "\n",
    "def file_path(image_path):\n",
    "    page =1\n",
    "    for file in os.listdir(image_path):\n",
    "        if file == 'saree':\n",
    "            saree_path = os.path.join(image_path,file)\n",
    "            print(saree_path)\n",
    "            for saree in os.listdir(saree_path):\n",
    "                data_augmentation(saree, saree_path, page)\n",
    "                page+= 1\n",
    "        \n",
    "        if file == 'shirt':\n",
    "            shirt_path = os.path.join(image_path,file)\n",
    "            for shirt in os.listdir(shirt_path):\n",
    "                data_augmentation(shirt, shirt_path, page)\n",
    "                page+= 1\n",
    "\n",
    "        if file == 'tshirt':\n",
    "            tshirt_path = os.path.join(image_path,file)\n",
    "            for tshirt in os.listdir(tshirt_path):\n",
    "                data_augmentation(tshirt, tshirt_path, page)\n",
    "                page+= 1\n",
    "    return 'data augmentation done'          \n",
    "\n"
   ]
  },
  {
   "cell_type": "code",
   "execution_count": 2,
   "metadata": {},
   "outputs": [],
   "source": [
    "def data_augmentation(file,path,page):\n",
    "    files = os.path.join(path ,file)\n",
    "    image = cv2.imread(files)\n",
    "    height, width = image.shape[:2]\n",
    "    \n",
    "    rotation_matrix1 = cv2.getRotationMatrix2D((width/2, height/2), -30, .5)\n",
    "    rotation_matrix2 = cv2.getRotationMatrix2D((width/2, height/2), 30, .5)\n",
    "    \n",
    "    rotation_image1 = cv2.warpAffine(image, rotation_matrix1,(width,height))\n",
    "    rotation_image2 = cv2.warpAffine(image, rotation_matrix2,(width,height))\n",
    "    \n",
    "    cv2.imwrite(os.path.join(path ,'newimage_{0}_{1}.jpeg'.format(page, 'rotate-30')), rotation_image1)\n",
    "    cv2.imwrite(os.path.join(path ,'newimage_{0}_{1}.jpeg'.format(page, 'rotate30')), rotation_image2)\n",
    "    \n",
    "    flipped = cv2.flip(image, 1)\n",
    "    cv2.imwrite(os.path.join(path ,'newimage_{0}_{1}.jpeg'.format(page, 'flip')), flipped)\n",
    "    \n",
    "    \n",
    "    brightness = np.ones(image.shape, dtype = 'uint8')* 75\n",
    "    \n",
    "    added = cv2.add(image, brightness)\n",
    "    cv2.imwrite(os.path.join(path ,'newimage_{0}_{1}.jpeg'.format(page, 'high')), added)\n",
    "    \n",
    "    sub = cv2.subtract(image , brightness)\n",
    "    cv2.imwrite(os.path.join(path ,'newimage_{0}_{1}.jpeg'.format(page, 'low')), sub)\n",
    "    \n",
    "    kernel_sharping = np.array([[-1,-1,-1],\n",
    "                                [-1,9,-1],\n",
    "                                [-1,-1,-1]])\n",
    "    sharped = cv2.filter2D(image, -1, kernel_sharping)\n",
    "    cv2.imwrite(os.path.join(path ,'newimage_{0}_{1}.jpeg'.format(page, 'sharpe')), sharped)\n",
    "    \n",
    "    return \n",
    "    \n",
    "    \n",
    "    "
   ]
  },
  {
   "cell_type": "code",
   "execution_count": 3,
   "metadata": {},
   "outputs": [
    {
     "name": "stdout",
     "output_type": "stream",
     "text": [
      "Enter the Image Path :  D:\\augmented\\image_data\\train\n",
      "D:\\augmented\\image_data\\train\\saree\n"
     ]
    }
   ],
   "source": [
    "image_path= file_path(input('Enter the Image Path :  '))"
   ]
  },
  {
   "cell_type": "code",
   "execution_count": null,
   "metadata": {},
   "outputs": [],
   "source": []
  }
 ],
 "metadata": {
  "kernelspec": {
   "display_name": "Python 3",
   "language": "python",
   "name": "python3"
  },
  "language_info": {
   "codemirror_mode": {
    "name": "ipython",
    "version": 3
   },
   "file_extension": ".py",
   "mimetype": "text/x-python",
   "name": "python",
   "nbconvert_exporter": "python",
   "pygments_lexer": "ipython3",
   "version": "3.6.10"
  }
 },
 "nbformat": 4,
 "nbformat_minor": 4
}
